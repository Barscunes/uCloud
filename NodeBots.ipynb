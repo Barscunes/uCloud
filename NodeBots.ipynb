{
 "metadata": {
  "name": "",
  "signature": "sha256:63b75c9cd46b837b783a6ee2d848cf2e675ddfcdee3a542b9af080c2a2af2f6d"
 },
 "nbformat": 3,
 "nbformat_minor": 0,
 "worksheets": [
  {
   "cells": [
    {
     "cell_type": "heading",
     "level": 1,
     "metadata": {
      "internals": {
       "slide_helper": "subslide_end",
       "slide_type": "subslide"
      },
      "slide_helper": "subslide_end",
      "slideshow": {
       "slide_type": "slide"
      }
     },
     "source": [
      "SmartHomes\n",
      "<img src=\"images/smart-home.jpg\" style=\"width:600px;height:450px\">"
     ]
    },
    {
     "cell_type": "heading",
     "level": 2,
     "metadata": {
      "internals": {
       "slide_helper": "subslide_end",
       "slide_type": "subslide"
      },
      "slide_helper": "subslide_end",
      "slideshow": {
       "slide_type": "subslide"
      }
     },
     "source": [
      "Jos\u00e9 Miguel Vadillo Pro\n",
      "<div align=\\\"left\\\">\n",
      "<img src=\"images/salle.jpg\" style=\"position:relative; float:left; width:350px;height:300px\">\n",
      "</div>\n",
      "<img src=\"images/mainbit.png\" style=\"position:relative; float:left; width:400px;height:450px\">"
     ]
    },
    {
     "cell_type": "heading",
     "level": 4,
     "metadata": {
      "internals": {
       "slide_helper": "subslide_end",
       "slide_type": "subslide"
      },
      "slide_helper": "slide_end",
      "slideshow": {
       "slide_type": "subslide"
      }
     },
     "source": [
      "<p style=\"text-align: center;\"><i class=\"icon-google-plus icon-2x\"> [Jos\u00e9 Miguel Vadillo Pro](https://plus.google.com/115799909864612721260/posts)</i></p>\n",
      "\n",
      "<p style=\"text-align: center;\"><i class=\"icon-github icon-2x\"> [miguelvadillopro](https://github.com/miguelvadillopro)</i></p>\n",
      "\n",
      "<p style=\"text-align: center;\"><i class=\"icon-envelope-alt icon-2x\"> <a href=\"mailto:miguelvadillopro@gmail.com\">miguelvadillopro@gmail.com</a></i></p>\n",
      "\n",
      "<p style=\"text-align: center;\"><i class=\"icon-envelope-alt icon-2x\"> <a href=\"mailto:jmvadillo@mainbit.com.mx\">jmvadillo@mainbit.com.mx</a></i></p>"
     ]
    },
    {
     "cell_type": "heading",
     "level": 1,
     "metadata": {
      "internals": {
       "slide_helper": "subslide_end",
       "slide_type": "subslide"
      },
      "slide_helper": "subslide_end",
      "slideshow": {
       "slide_type": "slide"
      }
     },
     "source": [
      "Dom\u00f3tica\n",
      "<div align=\\\"left\\\">\n",
      "<img src=\"images/domoticscontrol.jpg\" style=\"position:relative; float:left; width:350px;height:250px\">\n",
      "</div>\n",
      "<img src=\"images/domoticsmaster.jpg\" style=\"position:relative; float:left; width:350px;height:250px\">"
     ]
    },
    {
     "cell_type": "heading",
     "level": 1,
     "metadata": {
      "internals": {
       "slide_helper": "subslide_end",
       "slide_type": "subslide"
      },
      "slide_helper": "slide_end",
      "slideshow": {
       "slide_type": "subslide"
      }
     },
     "source": [
      "Problemas de Dom\u00f3tica\n",
      "<div align=\\\"left\\\">\n",
      "<img src=\"images/expensive.png\" style=\"position:relative; float:left; width:250px;height:250px\">\n",
      "</div>\n",
      "<img src=\"images/smartphone.png\" style=\"position:relative; float:left; width:250px;height:250px\">\n",
      "<img src=\"images/democrat.png\" style=\"position:relative; float:left; width:250px;height:250px\">"
     ]
    },
    {
     "cell_type": "heading",
     "level": 1,
     "metadata": {
      "internals": {
       "slide_helper": "subslide_end",
       "slide_type": "subslide"
      },
      "slide_helper": "subslide_end",
      "slideshow": {
       "slide_type": "slide"
      }
     },
     "source": [
      "Soluciones de SmartHomes\n",
      "<div align=\\\"left\\\">\n",
      "<img src=\"images/revolv.jpg\" style=\"position:relative; float:left; width:230px;height:180px\">\n",
      "</div>\n",
      "<img src=\"images/smartthings.jpg\" style=\"position:relative; float:left; width:240px;height:180px\">\n",
      "<img src=\"images/homekit.jpg\" style=\"position:relative; float:left; width:280px;height:180px\">"
     ]
    },
    {
     "cell_type": "heading",
     "level": 1,
     "metadata": {
      "internals": {
       "slide_helper": "subslide_end",
       "slide_type": "subslide"
      },
      "slide_helper": "slide_end",
      "slideshow": {
       "slide_type": "subslide"
      }
     },
     "source": [
      "Problemas SmartHomes\n",
      "<div align=\\\"left\\\">\n",
      "<img src=\"images/poorange.jpg\" style=\"position:relative; float:left; width:250px;height:200px\">\n",
      "</div>\n",
      "<img src=\"images/connectivity.png\" style=\"position:relative; float:left; width:250px;height:220px\">\n",
      "<img src=\"images/ui.png\" style=\"position:relative; float:left; width:230px;height:400px\">"
     ]
    },
    {
     "cell_type": "heading",
     "level": 2,
     "metadata": {
      "internals": {
       "slide_helper": "subslide_end",
       "slide_type": "subslide"
      },
      "slide_helper": "slide_end",
      "slideshow": {
       "slide_type": "slide"
      }
     },
     "source": [
      "uCloud\n",
      "<img src=\"images/eve.jpg\"/>"
     ]
    },
    {
     "cell_type": "heading",
     "level": 1,
     "metadata": {
      "internals": {
       "slide_helper": "subslide_end",
       "slide_type": "subslide"
      },
      "slide_helper": "slide_end",
      "slideshow": {
       "slide_type": "slide"
      }
     },
     "source": [
      "Propuesta uCloud\n",
      "<div align=\\\"left\\\">\n",
      "    <img src=\"images/director.jpg\" style=\"position:relative; float:left; width:200px;height:300px\">\n",
      "</div>\n",
      "<img src=\"images/oshw.jpg\" style=\"position:relative; float:left; width:300px;height:250px\">\n",
      "<img src=\"images/api.gif\" style=\"position:relative; float:left; width:250px;height:250px\">\n"
     ]
    },
    {
     "cell_type": "heading",
     "level": 1,
     "metadata": {
      "internals": {
       "slide_helper": "subslide_end",
       "slide_type": "subslide"
      },
      "slide_helper": "slide_end",
      "slideshow": {
       "slide_type": "slide"
      }
     },
     "source": [
      "Arquitectura \n",
      "<img src=\"images/arquitectura2.png\">\n"
     ]
    },
    {
     "cell_type": "heading",
     "level": 1,
     "metadata": {
      "internals": {
       "slide_helper": "subslide_end",
       "slide_type": "subslide"
      },
      "slide_helper": "subslide_end",
      "slideshow": {
       "slide_type": "slide"
      }
     },
     "source": [
      "Ejemplo \"P2P\"\n",
      "<img src=\"images/P2P.png\">\n"
     ]
    },
    {
     "cell_type": "heading",
     "level": 2,
     "metadata": {
      "internals": {
       "slide_helper": "subslide_end",
       "slide_type": "subslide"
      },
      "slide_helper": "slide_end",
      "slideshow": {
       "slide_type": "subslide"
      }
     },
     "source": [
      "<img src=\"images/ejemploP2P2.png\">"
     ]
    },
    {
     "cell_type": "heading",
     "level": 1,
     "metadata": {
      "internals": {
       "slide_helper": "subslide_end",
       "slide_type": "subslide"
      },
      "slide_helper": "slide_end",
      "slideshow": {
       "slide_type": "slide"
      }
     },
     "source": [
      "<img src=\"images/BoB3.png\">"
     ]
    },
    {
     "cell_type": "heading",
     "level": 1,
     "metadata": {
      "internals": {
       "slide_helper": "subslide_end",
       "slide_type": "subslide"
      },
      "slide_helper": "slide_end",
      "slideshow": {
       "slide_type": "slide"
      }
     },
     "source": [
      "DEMO"
     ]
    },
    {
     "cell_type": "heading",
     "level": 2,
     "metadata": {
      "internals": {
       "slide_type": "subslide"
      },
      "slideshow": {
       "slide_type": "slide"
      }
     },
     "source": [
      "Iniciamos el nucleo Rest y el puerto MQTT"
     ]
    },
    {
     "cell_type": "code",
     "collapsed": false,
     "input": [
      "!gnome-terminal -x python ../Core/RestCore.py\n",
      "!gnome-terminal -x python ../Ports/MQTTPort.py"
     ],
     "language": "python",
     "metadata": {
      "internals": {},
      "slideshow": {
       "slide_type": "-"
      }
     },
     "outputs": [],
     "prompt_number": 18
    },
    {
     "cell_type": "heading",
     "level": 2,
     "metadata": {
      "internals": {},
      "slideshow": {
       "slide_type": "-"
      }
     },
     "source": [
      "Iniciamos el programa de los dispositivos"
     ]
    },
    {
     "cell_type": "code",
     "collapsed": false,
     "input": [
      "!gnome-terminal -x python ../Things/LampBridge.py\n",
      "!gnome-terminal -x python ../Things/LightSensorBridge.py"
     ],
     "language": "python",
     "metadata": {
      "internals": {
       "slide_helper": "subslide_end"
      },
      "slide_helper": "slide_end",
      "slideshow": {
       "slide_type": "-"
      }
     },
     "outputs": [],
     "prompt_number": 19
    },
    {
     "cell_type": "heading",
     "level": 2,
     "metadata": {
      "internals": {
       "slide_type": "subslide"
      },
      "slideshow": {
       "slide_type": "slide"
      }
     },
     "source": [
      "Importamos las librerias"
     ]
    },
    {
     "cell_type": "code",
     "collapsed": false,
     "input": [
      "import requests\n",
      "import json\n",
      "import ast"
     ],
     "language": "python",
     "metadata": {
      "internals": {},
      "slideshow": {
       "slide_type": "-"
      }
     },
     "outputs": [],
     "prompt_number": 20
    },
    {
     "cell_type": "heading",
     "level": 2,
     "metadata": {
      "internals": {},
      "slideshow": {
       "slide_type": "-"
      }
     },
     "source": [
      "Creamos la constante URI"
     ]
    },
    {
     "cell_type": "code",
     "collapsed": false,
     "input": [
      "URI = 'http://127.0.0.1:8000/ucloud/'"
     ],
     "language": "python",
     "metadata": {
      "internals": {
       "slide_helper": "subslide_end"
      },
      "slide_helper": "slide_end",
      "slideshow": {
       "slide_type": "-"
      }
     },
     "outputs": [],
     "prompt_number": 21
    },
    {
     "cell_type": "heading",
     "level": 2,
     "metadata": {
      "internals": {
       "slide_type": "subslide"
      },
      "slideshow": {
       "slide_type": "slide"
      }
     },
     "source": [
      "Obtenemos los 'things'(dispositivos) conectados"
     ]
    },
    {
     "cell_type": "code",
     "collapsed": false,
     "input": [
      "r = requests.get(URI+'json/things')\n",
      "\n",
      "print 'Code: ' + str(r.status_code) + '\\n\\n MSG:\\n' + str(r.text)"
     ],
     "language": "python",
     "metadata": {
      "internals": {
       "slide_helper": "subslide_end"
      },
      "slide_helper": "slide_end",
      "slideshow": {
       "slide_type": "-"
      }
     },
     "outputs": [
      {
       "output_type": "stream",
       "stream": "stdout",
       "text": [
        "Code: 200\n",
        "\n",
        " MSG:\n",
        "{\n",
        "  \"Things\": [\n",
        "    {\n",
        "      \"json\": {\n",
        "        \"control\": {\n",
        "          \"msg_off\": [],\n",
        "          \"msg_on\": [],\n",
        "          \"topic\": [],\n",
        "          \"unlink_msg_off\": \"\",\n",
        "          \"unlink_msg_on\": \"\",\n",
        "          \"unlink_topic\": \"\"\n",
        "        },\n",
        "        \"name\": \"lamp\",\n",
        "        \"power\": \"\",\n",
        "        \"state\": 0\n",
        "      },\n",
        "      \"mac\": 3\n",
        "    },\n",
        "    {\n",
        "      \"json\": {\n",
        "        \"name\": \"lightsensor\",\n",
        "        \"state\": \"Mucha luz\"\n",
        "      },\n",
        "      \"mac\": 4\n",
        "    }\n",
        "  ]\n",
        "}\n"
       ]
      }
     ],
     "prompt_number": 22
    },
    {
     "cell_type": "heading",
     "level": 2,
     "metadata": {
      "internals": {
       "slide_type": "subslide"
      },
      "slideshow": {
       "slide_type": "slide"
      }
     },
     "source": [
      "Modificamos un dispositivo"
     ]
    },
    {
     "cell_type": "code",
     "collapsed": false,
     "input": [
      "r = requests.put(URI+'thing',\n",
      "                 data=json.dumps({'mac': 3,\n",
      "                                  'json':{'power':0}}),\n",
      "                 headers={'content-type': 'application/json'})\n",
      "print 'Code: ' + str(r.status_code) + '\\n\\n MSG:\\n' + str(r.text)"
     ],
     "language": "python",
     "metadata": {
      "internals": {},
      "slideshow": {
       "slide_type": "-"
      }
     },
     "outputs": [
      {
       "output_type": "stream",
       "stream": "stdout",
       "text": [
        "Code: 202\n",
        "\n",
        " MSG:\n",
        "{\n",
        "  \"Thing\": \"Modified\"\n",
        "}\n"
       ]
      }
     ],
     "prompt_number": 27
    },
    {
     "cell_type": "heading",
     "level": 2,
     "metadata": {
      "internals": {},
      "slideshow": {
       "slide_type": "-"
      }
     },
     "source": [
      "Observamos el cambio en el formulario"
     ]
    },
    {
     "cell_type": "code",
     "collapsed": false,
     "input": [
      "r = requests.get(URI+'json/things')\n",
      "\n",
      "print 'Code: ' + str(r.status_code) + '\\n\\n MSG:\\n' + str(r.text)"
     ],
     "language": "python",
     "metadata": {
      "internals": {
       "slide_helper": "subslide_end"
      },
      "slide_helper": "slide_end",
      "slideshow": {
       "slide_type": "-"
      }
     },
     "outputs": [
      {
       "output_type": "stream",
       "stream": "stdout",
       "text": [
        "Code: 200\n",
        "\n",
        " MSG:\n",
        "{\n",
        "  \"Things\": [\n",
        "    {\n",
        "      \"json\": {\n",
        "        \"control\": {\n",
        "          \"msg_off\": [],\n",
        "          \"msg_on\": [],\n",
        "          \"topic\": [],\n",
        "          \"unlink_msg_off\": \"\",\n",
        "          \"unlink_msg_on\": \"\",\n",
        "          \"unlink_topic\": \"\"\n",
        "        },\n",
        "        \"name\": \"lamp\",\n",
        "        \"power\": \"\",\n",
        "        \"state\": \"0\"\n",
        "      },\n",
        "      \"mac\": 3\n",
        "    },\n",
        "    {\n",
        "      \"json\": {\n",
        "        \"name\": \"lightsensor\",\n",
        "        \"state\": \"Mucha luz\"\n",
        "      },\n",
        "      \"mac\": 4\n",
        "    }\n",
        "  ]\n",
        "}\n"
       ]
      }
     ],
     "prompt_number": 28
    },
    {
     "cell_type": "heading",
     "level": 2,
     "metadata": {
      "internals": {
       "slide_type": "subslide"
      },
      "slideshow": {
       "slide_type": "slide"
      }
     },
     "source": [
      "Buscamos el atributo Msg_On"
     ]
    },
    {
     "cell_type": "code",
     "collapsed": false,
     "input": [
      "findMsgOn = requests.get(URI+'find/MQTT/things',\n",
      "                         data=json.dumps({'name': 'msg_on'}),\n",
      "                         headers={'content-type':\n",
      "                                  'application/json'})\n",
      "\n",
      "print ('Code: ' + str(findMsgOn.status_code) + '\\n\\n MSG:\\n'\n",
      "        + str(findMsgOn.text))"
     ],
     "language": "python",
     "metadata": {
      "internals": {
       "slide_helper": "subslide_end"
      },
      "slide_helper": "slide_end",
      "slideshow": {
       "slide_type": "-"
      }
     },
     "outputs": [
      {
       "output_type": "stream",
       "stream": "stdout",
       "text": [
        "Code: 200\n",
        "\n",
        " MSG:\n",
        "{\n",
        "  \"Things\": [\n",
        "    {\n",
        "      \"found\": [\n",
        "        {\n",
        "          \"dir\": {\n",
        "            \"control\": \"msg_on\"\n",
        "          },\n",
        "          \"name\": \"msg_on\",\n",
        "          \"notes\": \"Link the message sent to switch on the lamp\",\n",
        "          \"pattern\": \"subscriber\",\n",
        "          \"type\": \"MQTT\",\n",
        "          \"validmsg\": \"\",\n",
        "          \"validtype\": \"\"\n",
        "        },\n",
        "        {\n",
        "          \"dir\": {\n",
        "            \"control\": \"unlink_msg_on\"\n",
        "          },\n",
        "          \"name\": \"unlink_msg_on\",\n",
        "          \"notes\": \"Unlink the message sent with the switch on action of the lamp\",\n",
        "          \"pattern\": \"manage\",\n",
        "          \"type\": \"MQTT\",\n",
        "          \"validmsg\": \"\",\n",
        "          \"validtype\": \"\"\n",
        "        }\n",
        "      ],\n",
        "      \"mac\": 3\n",
        "    }\n",
        "  ]\n",
        "}\n"
       ]
      }
     ],
     "prompt_number": 29
    },
    {
     "cell_type": "heading",
     "level": 2,
     "metadata": {
      "internals": {
       "slide_type": "subslide"
      },
      "slideshow": {
       "slide_type": "slide"
      }
     },
     "source": [
      "Buscamos otro atributo que se le pueda asignar a Msg_On"
     ]
    },
    {
     "cell_type": "code",
     "collapsed": false,
     "input": [
      "pubs = requests.get(URI+'find/MQTT/things',\n",
      "                    data=json.dumps({'pattern': 'publisher'}),\n",
      "                    headers={'content-type': 'application/json'})\n",
      "\n",
      "print ('Code: ' + str(pubs.status_code) + '\\n\\n MSG:\\n'\n",
      "        + str(pubs.text))"
     ],
     "language": "python",
     "metadata": {
      "internals": {
       "slide_helper": "subslide_end"
      },
      "slide_helper": "subslide_end",
      "slideshow": {
       "slide_type": "-"
      }
     },
     "outputs": [
      {
       "output_type": "stream",
       "stream": "stdout",
       "text": [
        "Code: 200\n",
        "\n",
        " MSG:\n",
        "{\n",
        "  \"Things\": [\n",
        "    {\n",
        "      \"found\": [\n",
        "        {\n",
        "          \"name\": \"state\",\n",
        "          \"notes\": \"Shows the current state of the lamp\",\n",
        "          \"pattern\": \"publisher\",\n",
        "          \"topic\": \"lampstate\",\n",
        "          \"type\": \"MQTT\",\n",
        "          \"validmsg\": [\n",
        "            0,\n",
        "            1\n",
        "          ],\n",
        "          \"validtype\": \"int\"\n",
        "        }\n",
        "      ],\n",
        "      \"mac\": 3\n",
        "    },\n",
        "    {\n",
        "      \"found\": [\n",
        "        {\n",
        "          \"name\": \"state\",\n",
        "          \"notes\": \"Shows the current state of the Sensor light\",\n",
        "          \"pattern\": \"publisher\",\n",
        "          \"topic\": \"lightsensorstate\",\n",
        "          \"type\": \"MQTT\",\n",
        "          \"validmsg\": [\n",
        "            \"Mucha luz\",\n",
        "            \"Suficiente luz\",\n",
        "            \"Poca luz\"\n",
        "          ],\n",
        "          \"validtype\": \"str\"\n",
        "        }\n",
        "      ],\n",
        "      \"mac\": 4\n",
        "    }\n",
        "  ]\n",
        "}\n"
       ]
      }
     ],
     "prompt_number": 30
    },
    {
     "cell_type": "code",
     "collapsed": false,
     "input": [
      "publishers = ast.literal_eval(pubs.text)"
     ],
     "language": "python",
     "metadata": {
      "internals": {
       "slide_type": "subslide"
      },
      "slideshow": {
       "slide_type": "subslide"
      }
     },
     "outputs": [],
     "prompt_number": 31
    },
    {
     "cell_type": "code",
     "collapsed": false,
     "input": [
      "lightsensor = filter(lambda thing: thing['mac'] is 4, publishers['Things'])\n",
      "lightsensor = lightsensor[0]['found'][0]\n",
      "lightsensor"
     ],
     "language": "python",
     "metadata": {
      "internals": {
       "slide_helper": "subslide_end"
      },
      "slide_helper": "slide_end",
      "slideshow": {
       "slide_type": "-"
      }
     },
     "outputs": [
      {
       "metadata": {},
       "output_type": "pyout",
       "prompt_number": 32,
       "text": [
        "{'name': 'state',\n",
        " 'notes': 'Shows the current state of the Sensor light',\n",
        " 'pattern': 'publisher',\n",
        " 'topic': 'lightsensorstate',\n",
        " 'type': 'MQTT',\n",
        " 'validmsg': ['Mucha luz', 'Suficiente luz', 'Poca luz'],\n",
        " 'validtype': 'str'}"
       ]
      }
     ],
     "prompt_number": 32
    },
    {
     "cell_type": "heading",
     "level": 2,
     "metadata": {
      "internals": {
       "slide_type": "subslide"
      },
      "slideshow": {
       "slide_type": "slide"
      }
     },
     "source": [
      "Usamos la informaci\u00f3n encontrada para cambiar la conducta de la lampara"
     ]
    },
    {
     "cell_type": "code",
     "collapsed": false,
     "input": [
      "r = requests.put(\n",
      "    URI+'thing',\n",
      "    data=json.dumps({'mac': 3,\n",
      "                     'json':\n",
      "                     {'control':\n",
      "                      {'topic':lightsensor['topic'],\n",
      "                       'msg_on':lightsensor['validmsg'][2],\n",
      "                       'msg_off':lightsensor['validmsg'][1]}}}),\n",
      "    headers={'content-type': 'application/json'})\n",
      "\n",
      "print 'Code: ' + str(r.status_code) + '\\n\\n MSG:\\n' + str(r.text)"
     ],
     "language": "python",
     "metadata": {
      "internals": {
       "slide_helper": "subslide_end"
      },
      "slide_helper": "slide_end",
      "slideshow": {
       "slide_type": "-"
      }
     },
     "outputs": [
      {
       "output_type": "stream",
       "stream": "stdout",
       "text": [
        "Code: 202\n",
        "\n",
        " MSG:\n",
        "{\n",
        "  \"Thing\": \"Modified\"\n",
        "}\n"
       ]
      }
     ],
     "prompt_number": 33
    },
    {
     "cell_type": "heading",
     "level": 2,
     "metadata": {
      "internals": {
       "slide_type": "subslide"
      },
      "slideshow": {
       "slide_type": "slide"
      }
     },
     "source": [
      "Cambiamos el comportamiento de la lampara"
     ]
    },
    {
     "cell_type": "code",
     "collapsed": false,
     "input": [
      "r = requests.put(\n",
      "    URI+'thing',\n",
      "    data=json.dumps({'mac': 3,\n",
      "                     'json':\n",
      "                     {'control':\n",
      "                      {'unlink_msg_off':lightsensor['validmsg'][1],\n",
      "                       'msg_off':lightsensor['validmsg'][0]}}}),\n",
      "    headers={'content-type': 'application/json'})\n",
      "\n",
      "print 'Code: ' + str(r.status_code) + '\\n\\n MSG:\\n' + str(r.text)"
     ],
     "language": "python",
     "metadata": {
      "internals": {
       "slide_helper": "subslide_end"
      },
      "slide_helper": "slide_end",
      "slideshow": {
       "slide_type": "-"
      }
     },
     "outputs": [
      {
       "output_type": "stream",
       "stream": "stdout",
       "text": [
        "Code: 202\n",
        "\n",
        " MSG:\n",
        "{\n",
        "  \"Thing\": \"Modified\"\n",
        "}\n"
       ]
      }
     ],
     "prompt_number": 34
    },
    {
     "cell_type": "heading",
     "level": 2,
     "metadata": {
      "internals": {
       "slide_type": "subslide"
      },
      "slideshow": {
       "slide_type": "slide"
      }
     },
     "source": [
      "Obtenemos el formulario de los dispositivos"
     ]
    },
    {
     "cell_type": "code",
     "collapsed": false,
     "input": [
      "r = requests.get(URI+'json/things')\n",
      "print 'Code: ' + str(r.status_code) + '\\n\\n MSG:\\n' + str(r.text)"
     ],
     "language": "python",
     "metadata": {
      "internals": {
       "slide_helper": "subslide_end"
      },
      "slide_helper": "slide_end",
      "slideshow": {
       "slide_type": "-"
      }
     },
     "outputs": [
      {
       "output_type": "stream",
       "stream": "stdout",
       "text": [
        "Code: 200\n",
        "\n",
        " MSG:\n",
        "{\n",
        "  \"Things\": [\n",
        "    {\n",
        "      \"json\": {\n",
        "        \"control\": {\n",
        "          \"msg_off\": [\n",
        "            \"Mucha luz\"\n",
        "          ],\n",
        "          \"msg_on\": [\n",
        "            \"Poca luz\"\n",
        "          ],\n",
        "          \"topic\": [\n",
        "            \"lightsensorstate\"\n",
        "          ],\n",
        "          \"unlink_msg_off\": \"\",\n",
        "          \"unlink_msg_on\": \"\",\n",
        "          \"unlink_topic\": \"\"\n",
        "        },\n",
        "        \"name\": \"lamp\",\n",
        "        \"power\": \"\",\n",
        "        \"state\": \"0\"\n",
        "      },\n",
        "      \"mac\": 3\n",
        "    },\n",
        "    {\n",
        "      \"json\": {\n",
        "        \"name\": \"lightsensor\",\n",
        "        \"state\": \"Mucha luz\"\n",
        "      },\n",
        "      \"mac\": 4\n",
        "    }\n",
        "  ]\n",
        "}\n"
       ]
      }
     ],
     "prompt_number": 37
    },
    {
     "cell_type": "heading",
     "level": 2,
     "metadata": {
      "internals": {
       "slide_type": "subslide"
      },
      "slideshow": {
       "slide_type": "slide"
      }
     },
     "source": [
      "Trabajo futuro<img src=\"images/future.png\" style=\"width:800px;height:650px\">"
     ]
    },
    {
     "cell_type": "code",
     "collapsed": false,
     "input": [],
     "language": "python",
     "metadata": {
      "internals": {
       "slide_helper": "subslide_end"
      },
      "slide_helper": "slide_end",
      "slideshow": {
       "slide_type": "-"
      }
     },
     "outputs": []
    }
   ],
   "metadata": {}
  }
 ]
}