{
 "metadata": {
  "name": "",
  "signature": "sha256:f1882e9d292220e1dd37344be51f9b502717a3bcd219c7dcee2eeaad3ea91848"
 },
 "nbformat": 3,
 "nbformat_minor": 0,
 "worksheets": [
  {
   "cells": [
    {
     "cell_type": "heading",
     "level": 2,
     "metadata": {
      "internals": {
       "frag_helper": "fragment_end",
       "frag_number": 1,
       "slide_helper": "subslide_end",
       "slide_type": "subslide"
      },
      "slide_helper": "slide_end",
      "slideshow": {
       "slide_type": "slide"
      }
     },
     "source": [
      "uCloud\n",
      "<img src=\"images/200115ArquitecturadeComunicacion.png\"/>\n"
     ]
    },
    {
     "cell_type": "heading",
     "level": 1,
     "metadata": {
      "internals": {
       "slide_helper": "subslide_end",
       "slide_type": "subslide"
      },
      "slide_helper": "subslide_end",
      "slideshow": {
       "slide_type": "slide"
      }
     },
     "source": [
      "\"P2P\" Example\n",
      "<img src=\"images/P2P.png\"/>"
     ]
    },
    {
     "cell_type": "heading",
     "level": 1,
     "metadata": {
      "internals": {
       "slide_helper": "subslide_end",
       "slide_type": "subslide"
      },
      "slide_helper": "slide_end",
      "slideshow": {
       "slide_type": "subslide"
      }
     },
     "source": [
      "<img src=\"images/200115ArquitecturadeComunicacionP2P.png\"/>"
     ]
    },
    {
     "cell_type": "heading",
     "level": 1,
     "metadata": {
      "internals": {
       "slide_helper": "subslide_end",
       "slide_type": "subslide"
      },
      "slide_helper": "slide_end",
      "slideshow": {
       "slide_type": "slide"
      }
     },
     "source": [
      "JSON & METAJSON\n",
      "<img src=\"images/BoB.png\"/>"
     ]
    },
    {
     "cell_type": "heading",
     "level": 1,
     "metadata": {
      "internals": {
       "frag_helper": "fragment_end",
       "frag_number": 3,
       "slide_helper": "subslide_end",
       "slide_type": "subslide"
      },
      "slide_helper": "slide_end",
      "slideshow": {
       "slide_type": "slide"
      }
     },
     "source": [
      "DEMO"
     ]
    },
    {
     "cell_type": "heading",
     "level": 3,
     "metadata": {
      "internals": {
       "frag_helper": "fragment_end",
       "frag_number": 3,
       "slide_type": "subslide"
      },
      "slideshow": {
       "slide_type": "slide"
      }
     },
     "source": [
      "Start the Core and MQTT Port"
     ]
    },
    {
     "cell_type": "code",
     "collapsed": false,
     "input": [
      "!gnome-terminal -x python ../Core/RestCore.py\n",
      "!gnome-terminal -x python ../Ports/MQTTPort.py"
     ],
     "language": "python",
     "metadata": {
      "internals": {
       "frag_helper": "fragment_end",
       "frag_number": 3
      },
      "slideshow": {
       "slide_type": "-"
      }
     },
     "outputs": [],
     "prompt_number": 30
    },
    {
     "cell_type": "code",
     "collapsed": false,
     "input": [
      "!gnome-terminal -x python ../Things/LampBridge.py\n",
      "!gnome-terminal -x python ../Things/LightSensorBridge.py"
     ],
     "language": "python",
     "metadata": {
      "internals": {
       "frag_helper": "fragment_end",
       "frag_number": 3
      },
      "slideshow": {
       "slide_type": "-"
      }
     },
     "outputs": [],
     "prompt_number": 17
    },
    {
     "cell_type": "heading",
     "level": 3,
     "metadata": {
      "internals": {
       "frag_helper": "fragment_end",
       "frag_number": 3
      },
      "slideshow": {
       "slide_type": "-"
      }
     },
     "source": [
      "Import the libraries"
     ]
    },
    {
     "cell_type": "code",
     "collapsed": false,
     "input": [
      "import requests\n",
      "import json\n",
      "import ast"
     ],
     "language": "python",
     "metadata": {
      "internals": {
       "frag_helper": "fragment_end",
       "frag_number": 3,
       "slide_helper": "subslide_end"
      },
      "slide_helper": "slide_end",
      "slideshow": {
       "slide_type": "-"
      }
     },
     "outputs": [],
     "prompt_number": 3
    },
    {
     "cell_type": "heading",
     "level": 3,
     "metadata": {
      "internals": {
       "frag_helper": "fragment_end",
       "frag_number": 3,
       "slide_type": "subslide"
      },
      "slideshow": {
       "slide_type": "slide"
      }
     },
     "source": [
      "Get all things(Json, MetaJson)"
     ]
    },
    {
     "cell_type": "code",
     "collapsed": false,
     "input": [
      "r = requests.get('http://127.0.0.1:8000/ucloud/json/things')\n",
      "print 'Code: ' + str(r.status_code) + '\\n\\n MSG:\\n' + str(r.text)"
     ],
     "language": "python",
     "metadata": {
      "internals": {
       "frag_helper": "fragment_end",
       "frag_number": 3,
       "slide_helper": "subslide_end"
      },
      "slide_helper": "slide_end",
      "slideshow": {
       "slide_type": "-"
      }
     },
     "outputs": [
      {
       "output_type": "stream",
       "stream": "stdout",
       "text": [
        "Code: 200\n",
        "\n",
        " MSG:\n",
        "{\n",
        "  \"Things\": [\n",
        "    {\n",
        "      \"json\": {\n",
        "        \"control\": {\n",
        "          \"msg_off\": [\n",
        "            \"Suficiente luz\"\n",
        "          ],\n",
        "          \"msg_on\": [\n",
        "            \"Poca luz\"\n",
        "          ],\n",
        "          \"topic\": [\n",
        "            \"lightsensorstate\"\n",
        "          ],\n",
        "          \"unlink_msg_off\": \"\",\n",
        "          \"unlink_msg_on\": \"\",\n",
        "          \"unlink_topic\": \"\"\n",
        "        },\n",
        "        \"name\": \"lamp\",\n",
        "        \"power\": \"\",\n",
        "        \"state\": \"0\"\n",
        "      },\n",
        "      \"mac\": 3\n",
        "    },\n",
        "    {\n",
        "      \"json\": {\n",
        "        \"name\": \"lightsensor\",\n",
        "        \"state\": \"Suficiente luz\"\n",
        "      },\n",
        "      \"mac\": 4\n",
        "    }\n",
        "  ]\n",
        "}\n"
       ]
      }
     ],
     "prompt_number": 15
    },
    {
     "cell_type": "heading",
     "level": 3,
     "metadata": {
      "internals": {
       "frag_helper": "fragment_end",
       "frag_number": 3,
       "slide_type": "subslide"
      },
      "slideshow": {
       "slide_type": "slide"
      }
     },
     "source": [
      "Modify Thing"
     ]
    },
    {
     "cell_type": "code",
     "collapsed": false,
     "input": [
      "r = requests.put('http://127.0.0.1:8000/ucloud/thing', data=json.dumps({'mac': 3,\n",
      "                                                                        'json':{'power':0}}),\n",
      "                                                       headers={'content-type': 'application/json'})\n",
      "print 'Code: ' + str(r.status_code) + '\\n\\n MSG:\\n' + str(r.text)"
     ],
     "language": "python",
     "metadata": {
      "internals": {
       "frag_helper": "fragment_end",
       "frag_number": 3,
       "slide_helper": "subslide_end"
      },
      "slide_helper": "slide_end",
      "slideshow": {
       "slide_type": "-"
      }
     },
     "outputs": [
      {
       "output_type": "stream",
       "stream": "stdout",
       "text": [
        "Code: 202\n",
        "\n",
        " MSG:\n",
        "{\n",
        "  \"Thing\": \"Modified\"\n",
        "}\n"
       ]
      }
     ],
     "prompt_number": 7
    },
    {
     "cell_type": "heading",
     "level": 3,
     "metadata": {
      "internals": {
       "frag_helper": "fragment_end",
       "frag_number": 3,
       "slide_type": "subslide"
      },
      "slideshow": {
       "slide_type": "slide"
      }
     },
     "source": [
      "Find Msg_On"
     ]
    },
    {
     "cell_type": "code",
     "collapsed": false,
     "input": [
      "findMsgOn = requests.get('http://127.0.0.1:8000/ucloud/find/MQTT/things', data=json.dumps({'name': 'msg_on'}),headers={'content-type': 'application/json'})\n",
      "print 'Code: ' + str(findMsgOn.status_code) + '\\n\\n MSG:\\n' + str(findMsgOn.text)"
     ],
     "language": "python",
     "metadata": {
      "internals": {
       "frag_helper": "fragment_end",
       "frag_number": 3,
       "slide_helper": "subslide_end"
      },
      "slide_helper": "slide_end",
      "slideshow": {
       "slide_type": "-"
      }
     },
     "outputs": [
      {
       "output_type": "stream",
       "stream": "stdout",
       "text": [
        "Code: 200\n",
        "\n",
        " MSG:\n",
        "{\n",
        "  \"Things\": [\n",
        "    {\n",
        "      \"found\": [\n",
        "        {\n",
        "          \"dir\": {\n",
        "            \"control\": \"msg_on\"\n",
        "          },\n",
        "          \"name\": \"msg_on\",\n",
        "          \"notes\": \"Link the message sent to switch on the lamp\",\n",
        "          \"pattern\": \"subscriber\",\n",
        "          \"type\": \"MQTT\",\n",
        "          \"validmsg\": \"\",\n",
        "          \"validtype\": \"\"\n",
        "        },\n",
        "        {\n",
        "          \"dir\": {\n",
        "            \"control\": \"unlink_msg_on\"\n",
        "          },\n",
        "          \"name\": \"unlink_msg_on\",\n",
        "          \"notes\": \"Unlink the message sent with the switch on action of the lamp\",\n",
        "          \"pattern\": \"manage\",\n",
        "          \"type\": \"MQTT\",\n",
        "          \"validmsg\": \"\",\n",
        "          \"validtype\": \"\"\n",
        "        }\n",
        "      ],\n",
        "      \"mac\": 3\n",
        "    }\n",
        "  ]\n",
        "}\n"
       ]
      }
     ],
     "prompt_number": 8
    },
    {
     "cell_type": "heading",
     "level": 3,
     "metadata": {
      "internals": {
       "frag_helper": "fragment_end",
       "frag_number": 3,
       "slide_type": "subslide"
      },
      "slideshow": {
       "slide_type": "slide"
      }
     },
     "source": [
      "Find something to do with msg_on"
     ]
    },
    {
     "cell_type": "code",
     "collapsed": false,
     "input": [
      "pubs = requests.get('http://127.0.0.1:8000/ucloud/find/MQTT/things', data=json.dumps({'pattern': 'publisher'}),\n",
      "                          headers={'content-type': 'application/json'})\n",
      "print 'Code: ' + str(pubs.status_code) + '\\n\\n MSG:\\n' + str(pubs.text)"
     ],
     "language": "python",
     "metadata": {
      "internals": {
       "frag_helper": "fragment_end",
       "frag_number": 3,
       "slide_helper": "subslide_end"
      },
      "slide_helper": "subslide_end",
      "slideshow": {
       "slide_type": "-"
      }
     },
     "outputs": [
      {
       "output_type": "stream",
       "stream": "stdout",
       "text": [
        "Code: 200\n",
        "\n",
        " MSG:\n",
        "{\n",
        "  \"Things\": [\n",
        "    {\n",
        "      \"found\": [\n",
        "        {\n",
        "          \"name\": \"state\",\n",
        "          \"notes\": \"Shows the current state of the lamp\",\n",
        "          \"pattern\": \"publisher\",\n",
        "          \"topic\": \"lampstate\",\n",
        "          \"type\": \"MQTT\",\n",
        "          \"validmsg\": [\n",
        "            0,\n",
        "            1\n",
        "          ],\n",
        "          \"validtype\": \"int\"\n",
        "        }\n",
        "      ],\n",
        "      \"mac\": 3\n",
        "    },\n",
        "    {\n",
        "      \"found\": [\n",
        "        {\n",
        "          \"name\": \"state\",\n",
        "          \"notes\": \"Shows the current state of the Sensor light\",\n",
        "          \"pattern\": \"publisher\",\n",
        "          \"topic\": \"lightsensorstate\",\n",
        "          \"type\": \"MQTT\",\n",
        "          \"validmsg\": [\n",
        "            \"Mucha luz\",\n",
        "            \"Suficiente luz\",\n",
        "            \"Poca luz\"\n",
        "          ],\n",
        "          \"validtype\": \"str\"\n",
        "        }\n",
        "      ],\n",
        "      \"mac\": 4\n",
        "    }\n",
        "  ]\n",
        "}\n"
       ]
      }
     ],
     "prompt_number": 9
    },
    {
     "cell_type": "code",
     "collapsed": false,
     "input": [
      "publishers = ast.literal_eval(pubs.text)"
     ],
     "language": "python",
     "metadata": {
      "internals": {
       "frag_helper": "fragment_end",
       "frag_number": 3,
       "slide_type": "subslide"
      },
      "slideshow": {
       "slide_type": "subslide"
      }
     },
     "outputs": [],
     "prompt_number": 10
    },
    {
     "cell_type": "code",
     "collapsed": false,
     "input": [
      "lightsensor = filter(lambda thing: thing['mac'] is 4, publishers['Things'])\n",
      "lightsensor = lightsensor[0]['found'][0]\n",
      "lightsensor"
     ],
     "language": "python",
     "metadata": {
      "internals": {
       "slide_helper": "subslide_end"
      },
      "slide_helper": "slide_end",
      "slideshow": {
       "slide_type": "-"
      }
     },
     "outputs": [
      {
       "metadata": {},
       "output_type": "pyout",
       "prompt_number": 11,
       "text": [
        "{'name': 'state',\n",
        " 'notes': 'Shows the current state of the Sensor light',\n",
        " 'pattern': 'publisher',\n",
        " 'topic': 'lightsensorstate',\n",
        " 'type': 'MQTT',\n",
        " 'validmsg': ['Mucha luz', 'Suficiente luz', 'Poca luz'],\n",
        " 'validtype': 'str'}"
       ]
      }
     ],
     "prompt_number": 11
    },
    {
     "cell_type": "heading",
     "level": 3,
     "metadata": {
      "internals": {
       "frag_helper": "fragment_end",
       "frag_number": 3,
       "slide_type": "subslide"
      },
      "slideshow": {
       "slide_type": "slide"
      }
     },
     "source": [
      "Use the found data to change the behavior of the Lamp"
     ]
    },
    {
     "cell_type": "code",
     "collapsed": false,
     "input": [
      "r = requests.put('http://127.0.0.1:8000/ucloud/thing', data=json.dumps({'mac': 3,\n",
      "                                                                        'json':{'control':{'topic':lightsensor['topic'],\n",
      "                                                                                           'msg_on':lightsensor['validmsg'][2],\n",
      "                                                                                           'msg_off':lightsensor['validmsg'][1]}}}),\n",
      "                 headers={'content-type': 'application/json'})\n",
      "\n",
      "print 'Code: ' + str(r.status_code) + '\\n\\n MSG:\\n' + str(r.text)"
     ],
     "language": "python",
     "metadata": {
      "internals": {
       "frag_helper": "fragment_end",
       "frag_number": 3,
       "slide_helper": "subslide_end"
      },
      "slide_helper": "slide_end",
      "slideshow": {
       "slide_type": "-"
      }
     },
     "outputs": [
      {
       "output_type": "stream",
       "stream": "stdout",
       "text": [
        "Code: 202\n",
        "\n",
        " MSG:\n",
        "{\n",
        "  \"Thing\": \"Modified\"\n",
        "}\n"
       ]
      }
     ],
     "prompt_number": 12
    },
    {
     "cell_type": "heading",
     "level": 3,
     "metadata": {
      "internals": {
       "frag_helper": "fragment_end",
       "frag_number": 3,
       "slide_type": "subslide"
      },
      "slideshow": {
       "slide_type": "slide"
      }
     },
     "source": [
      "Change the beahavior of the Lamp"
     ]
    },
    {
     "cell_type": "code",
     "collapsed": false,
     "input": [
      "r = requests.put('http://127.0.0.1:8000/ucloud/thing', data=json.dumps({'mac': 3,\n",
      "                                                                        'json':{'control':{'unlink_msg_off':lightsensor['validmsg'][1],\n",
      "                                                                                           'msg_off':lightsensor['validmsg'][0]}}}),\n",
      "                 headers={'content-type': 'application/json'})\n",
      "\n",
      "print 'Code: ' + str(r.status_code) + '\\n\\n MSG:\\n' + str(r.text)"
     ],
     "language": "python",
     "metadata": {
      "internals": {
       "frag_helper": "fragment_end",
       "frag_number": 3,
       "slide_helper": "subslide_end"
      },
      "slide_helper": "slide_end",
      "slideshow": {
       "slide_type": "-"
      }
     },
     "outputs": [
      {
       "output_type": "stream",
       "stream": "stdout",
       "text": [
        "Code: 202\n",
        "\n",
        " MSG:\n",
        "{\n",
        "  \"Thing\": \"Modified\"\n",
        "}\n"
       ]
      }
     ],
     "prompt_number": 19
    },
    {
     "cell_type": "heading",
     "level": 3,
     "metadata": {
      "internals": {
       "frag_helper": "fragment_end",
       "frag_number": 3,
       "slide_type": "subslide"
      },
      "slideshow": {
       "slide_type": "slide"
      }
     },
     "source": [
      "Get the modified list of things"
     ]
    },
    {
     "cell_type": "code",
     "collapsed": false,
     "input": [
      "r = requests.get('http://127.0.0.1:8000/ucloud/json/things')\n",
      "print 'Code: ' + str(r.status_code) + '\\n\\n MSG:\\n' + str(r.text)"
     ],
     "language": "python",
     "metadata": {
      "internals": {
       "frag_helper": "fragment_end",
       "frag_number": 3,
       "slide_helper": "subslide_end"
      },
      "slide_helper": "slide_end",
      "slideshow": {
       "slide_type": "-"
      }
     },
     "outputs": [
      {
       "output_type": "stream",
       "stream": "stdout",
       "text": [
        "Code: 200\n",
        "\n",
        " MSG:\n",
        "{\n",
        "  \"Things\": [\n",
        "    {\n",
        "      \"json\": {\n",
        "        \"control\": {\n",
        "          \"msg_off\": [\n",
        "            \"Mucha luz\"\n",
        "          ],\n",
        "          \"msg_on\": [\n",
        "            \"Poca luz\"\n",
        "          ],\n",
        "          \"topic\": [\n",
        "            \"lightsensorstate\"\n",
        "          ],\n",
        "          \"unlink_msg_off\": \"\",\n",
        "          \"unlink_msg_on\": \"\",\n",
        "          \"unlink_topic\": \"\"\n",
        "        },\n",
        "        \"name\": \"lamp\",\n",
        "        \"power\": \"\",\n",
        "        \"state\": \"0\"\n",
        "      },\n",
        "      \"mac\": 3\n",
        "    },\n",
        "    {\n",
        "      \"json\": {\n",
        "        \"name\": \"lightsensor\",\n",
        "        \"state\": \"Suficiente luz\"\n",
        "      },\n",
        "      \"mac\": 4\n",
        "    }\n",
        "  ]\n",
        "}\n"
       ]
      }
     ],
     "prompt_number": 20
    },
    {
     "cell_type": "heading",
     "level": 1,
     "metadata": {
      "internals": {
       "slide_helper": "subslide_end",
       "slide_type": "subslide"
      },
      "slide_helper": "slide_end",
      "slideshow": {
       "slide_type": "slide"
      }
     },
     "source": [
      "Future work\n",
      "<img src=\"images/future.png\"/>"
     ]
    }
   ],
   "metadata": {}
  }
 ]
}