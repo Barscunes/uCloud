{
 "metadata": {
  "name": "",
  "signature": "sha256:8bce3832cf0ecfd366437123e3d7e84d6bf2332663e3ff2b7604297ada0ad776"
 },
 "nbformat": 3,
 "nbformat_minor": 0,
 "worksheets": [
  {
   "cells": [
    {
     "cell_type": "heading",
     "level": 1,
     "metadata": {},
     "source": [
      "Ejemplo del funciomamiento de uCloud"
     ]
    },
    {
     "cell_type": "heading",
     "level": 2,
     "metadata": {},
     "source": [
      "Configuraci\u00f3n inicial"
     ]
    },
    {
     "cell_type": "heading",
     "level": 3,
     "metadata": {},
     "source": [
      "Necesitaremos un Arduino, un led y un resistor para el primer ejemplo(podemos utilizar el led de la salida numero 13 para el ejemplo)"
     ]
    },
    {
     "cell_type": "heading",
     "level": 3,
     "metadata": {},
     "source": [
      "Conectamos el circuito de la siguiente forma, el resistor solo limita la corriente que le llega al led por lo que su valor no debe ser tan grande ya que limitara la visibilidad de led, se recomienda un valor de 220 ohms "
     ]
    },
    {
     "cell_type": "heading",
     "level": 1,
     "metadata": {},
     "source": [
      "<img src=\"images/arduinoLed.png\"/>"
     ]
    },
    {
     "cell_type": "heading",
     "level": 3,
     "metadata": {},
     "source": [
      "Cargamos el programa 'Things/Arduino/SimpleLed' en el Arduino"
     ]
    },
    {
     "cell_type": "heading",
     "level": 3,
     "metadata": {},
     "source": [
      "Iniciamos el n\u00facelo RestCore.py el puerto MQTTPort.py"
     ]
    },
    {
     "cell_type": "code",
     "collapsed": false,
     "input": [
      "!gnome-terminal -x python ../Core/RestCore.py\n",
      "!gnome-terminal -x python ../Ports/MQTTPort.py"
     ],
     "language": "python",
     "metadata": {},
     "outputs": [],
     "prompt_number": 16
    },
    {
     "cell_type": "heading",
     "level": 3,
     "metadata": {},
     "source": [
      "Iniciamos el programa que mediante serial provee un cliente MQTT al Arduino"
     ]
    },
    {
     "cell_type": "code",
     "collapsed": false,
     "input": [
      "!gnome-terminal -x python ../Things/PythonBridge/SimpleLedBridge.py"
     ],
     "language": "python",
     "metadata": {},
     "outputs": [],
     "prompt_number": 46
    },
    {
     "cell_type": "heading",
     "level": 3,
     "metadata": {},
     "source": [
      "En este momento el dispositivo SimpleLed se encuentra registrado en uCloud"
     ]
    },
    {
     "cell_type": "heading",
     "level": 2,
     "metadata": {},
     "source": [
      "Comandos del servicio REST"
     ]
    },
    {
     "cell_type": "heading",
     "level": 3,
     "metadata": {},
     "source": [
      "Primero importamos las librerias necesarias"
     ]
    },
    {
     "cell_type": "code",
     "collapsed": false,
     "input": [
      "import requests\n",
      "import json\n",
      "import ast"
     ],
     "language": "python",
     "metadata": {},
     "outputs": [],
     "prompt_number": 7
    },
    {
     "cell_type": "heading",
     "level": 2,
     "metadata": {},
     "source": [
      "GET"
     ]
    },
    {
     "cell_type": "heading",
     "level": 3,
     "metadata": {},
     "source": [
      "Obtener los dispositivos registrados en uCloud"
     ]
    },
    {
     "cell_type": "code",
     "collapsed": false,
     "input": [
      "r = requests.get('http://127.0.0.1:8000/ucloud/json/things')\n",
      "print 'Code: ' + str(r.status_code) + '\\n\\n MSG:\\n' + str(r.text)"
     ],
     "language": "python",
     "metadata": {},
     "outputs": [
      {
       "output_type": "stream",
       "stream": "stdout",
       "text": [
        "Code: 200\n",
        "\n",
        " MSG:\n",
        "{\n",
        "  \"Things\": [\n",
        "    {\n",
        "      \"json\": {\n",
        "        \"name\": \"prueba\"\n",
        "      },\n",
        "      \"mac\": 2\n",
        "    }\n",
        "  ]\n",
        "}\n"
       ]
      }
     ],
     "prompt_number": 49
    },
    {
     "cell_type": "heading",
     "level": 3,
     "metadata": {},
     "source": [
      "Tambien podemos obtener su 'metajson' al cambiar '/ucloud/json/things' por '/ucloud/metajson/things'"
     ]
    },
    {
     "cell_type": "code",
     "collapsed": false,
     "input": [
      "r = requests.get('http://127.0.0.1:8000/ucloud/metajson/things')\n",
      "print 'Code: ' + str(r.status_code) + '\\n\\n MSG:\\n' + str(r.text)"
     ],
     "language": "python",
     "metadata": {},
     "outputs": [
      {
       "output_type": "stream",
       "stream": "stdout",
       "text": [
        "Code: 200\n",
        "\n",
        " MSG:\n",
        "{\n",
        "  \"Things\": [\n",
        "    {\n",
        "      \"mac\": 1,\n",
        "      \"metajson\": {\n",
        "        \"/link/Off\": {\n",
        "          \"action\": \"send\",\n",
        "          \"topic\": \"link/msg/off\",\n",
        "          \"validmsg\": \"\",\n",
        "          \"validtype\": \"\",\n",
        "          \"value\": \"add\"\n",
        "        },\n",
        "        \"/link/On\": {\n",
        "          \"action\": \"send\",\n",
        "          \"topic\": \"link/msg/on\",\n",
        "          \"type\": \"MQTT\",\n",
        "          \"validmsg\": \"\",\n",
        "          \"validtype\": \"\",\n",
        "          \"value\": \"add\"\n",
        "        },\n",
        "        \"/link/topic\": {\n",
        "          \"action\": \"send\",\n",
        "          \"topic\": \"link/topic\",\n",
        "          \"type\": \"MQTT\",\n",
        "          \"validmsg\": \"\",\n",
        "          \"validtype\": \"\",\n",
        "          \"value\": \"add\"\n",
        "        },\n",
        "        \"/name\": {\n",
        "          \"action\": \"pass\",\n",
        "          \"validmsg\": \"\",\n",
        "          \"validtype\": \"\",\n",
        "          \"value\": \"replace\"\n",
        "        },\n",
        "        \"/power\": {\n",
        "          \"action\": \"send\",\n",
        "          \"topic\": \"powerled\",\n",
        "          \"type\": \"MQTT\",\n",
        "          \"validmsg\": [\n",
        "            1,\n",
        "            0\n",
        "          ],\n",
        "          \"validtype\": [\n",
        "            \"int\"\n",
        "          ],\n",
        "          \"value\": \"erase\"\n",
        "        },\n",
        "        \"mqtt/ledstate\": {\n",
        "          \"action\": \"pass\",\n",
        "          \"dir\": \"state\",\n",
        "          \"validmsg\": [\n",
        "            0,\n",
        "            1\n",
        "          ],\n",
        "          \"validtype\": \"int\",\n",
        "          \"value\": \"replace\"\n",
        "        },\n",
        "        \"setdown\": {\n",
        "          \"ledstate\": {\n",
        "            \"action\": \"unsubscribe\",\n",
        "            \"msg\": \"ledstate\",\n",
        "            \"type\": \"MQTT\"\n",
        "          }\n",
        "        },\n",
        "        \"setup\": {\n",
        "          \"ledstate\": {\n",
        "            \"action\": \"subscribe\",\n",
        "            \"msg\": \"ledstate\",\n",
        "            \"type\": \"MQTT\"\n",
        "          }\n",
        "        },\n",
        "        \"show\": [\n",
        "          {\n",
        "            \"dir\": \"show\",\n",
        "            \"name\": \"name\",\n",
        "            \"notes\": \"Change the name of the led\",\n",
        "            \"type\": \"configuration\",\n",
        "            \"validmsg\": \"any\",\n",
        "            \"validtype\": \"str\"\n",
        "          },\n",
        "          {\n",
        "            \"dir\": \"power\",\n",
        "            \"name\": \"power\",\n",
        "            \"notes\": \"Turn on and off the led\",\n",
        "            \"pattern\": \"listener\",\n",
        "            \"type\": \"MQTT\",\n",
        "            \"validmsg\": [\n",
        "              0,\n",
        "              1\n",
        "            ],\n",
        "            \"validtype\": \"int\"\n",
        "          },\n",
        "          {\n",
        "            \"dir\": \"/link/topic\",\n",
        "            \"name\": \"topic\",\n",
        "            \"notes\": \"The led subscribes to the message sent\",\n",
        "            \"pattern\": \"subscriber\",\n",
        "            \"type\": \"MQTT\",\n",
        "            \"validmsg\": \"any\",\n",
        "            \"validtype\": \"any\"\n",
        "          },\n",
        "          {\n",
        "            \"dir\": \"/link/On\",\n",
        "            \"name\": \"On\",\n",
        "            \"notes\": \"Link the message sent to switch on the led\",\n",
        "            \"pattern\": \"subscriber\",\n",
        "            \"type\": \"MQTT\",\n",
        "            \"validmsg\": \"any\",\n",
        "            \"validtype\": \"any\"\n",
        "          },\n",
        "          {\n",
        "            \"dir\": \"/link/Off\",\n",
        "            \"name\": \"Off\",\n",
        "            \"notes\": \"Link the message sent to switch off the led\",\n",
        "            \"pattern\": \"subscriber\",\n",
        "            \"type\": \"MQTT\",\n",
        "            \"validmsg\": \"any\",\n",
        "            \"validtype\": \"any\"\n",
        "          }\n",
        "        ]\n",
        "      }\n",
        "    }\n",
        "  ]\n",
        "}\n"
       ]
      }
     ],
     "prompt_number": 9
    },
    {
     "cell_type": "heading",
     "level": 3,
     "metadata": {},
     "source": [
      "Buscar por caracter\u00edsticas espec\u00edficas de nuestros dispositivos y entender que acci\u00f3n realiza cada caracter\u00edstica"
     ]
    },
    {
     "cell_type": "code",
     "collapsed": false,
     "input": [
      "find = requests.get('http://127.0.0.1:8000/ucloud/find/things', data=json.dumps({'name': 'power'}),\n",
      "                                                                headers={'content-type': 'application/json'})\n",
      "print 'Code: ' + str(find.status_code) + '\\n\\n MSG:\\n' + str(find.text)"
     ],
     "language": "python",
     "metadata": {},
     "outputs": [
      {
       "output_type": "stream",
       "stream": "stdout",
       "text": [
        "Code: 200\n",
        "\n",
        " MSG:\n",
        "{\n",
        "  \"Things\": [\n",
        "    {\n",
        "      \"found\": [\n",
        "        {\n",
        "          \"dir\": \"power\",\n",
        "          \"name\": \"power\",\n",
        "          \"notes\": \"Turn on and off the led\",\n",
        "          \"pattern\": \"listener\",\n",
        "          \"type\": \"MQTT\",\n",
        "          \"validmsg\": [\n",
        "            0,\n",
        "            1\n",
        "          ],\n",
        "          \"validtype\": \"int\"\n",
        "        }\n",
        "      ],\n",
        "      \"mac\": 1\n",
        "    }\n",
        "  ]\n",
        "}\n"
       ]
      }
     ],
     "prompt_number": 11
    },
    {
     "cell_type": "heading",
     "level": 2,
     "metadata": {},
     "source": [
      "PUT"
     ]
    },
    {
     "cell_type": "heading",
     "level": 3,
     "metadata": {},
     "source": [
      "Modificamos la caracter\u00edsticas que buscamos previamente"
     ]
    },
    {
     "cell_type": "code",
     "collapsed": false,
     "input": [
      "r = requests.put('http://127.0.0.1:8000/ucloud/thing', data=json.dumps({'mac': 1,\n",
      "                                                                        'json':{'power':0}}),\n",
      "                                                       headers={'content-type': 'application/json'})\n",
      "print 'Code: ' + str(r.status_code) + '\\n\\n MSG:\\n' + str(r.text)"
     ],
     "language": "python",
     "metadata": {},
     "outputs": [
      {
       "output_type": "stream",
       "stream": "stdout",
       "text": [
        "Code: 202\n",
        "\n",
        " MSG:\n",
        "{\n",
        "  \"Thing\": \"Modified\"\n",
        "}\n"
       ]
      }
     ],
     "prompt_number": 19
    },
    {
     "cell_type": "heading",
     "level": 2,
     "metadata": {},
     "source": [
      "POST"
     ]
    },
    {
     "cell_type": "heading",
     "level": 3,
     "metadata": {},
     "source": [
      "Podemos agregar dispositivos manualmente, lo que sirve para  crear dispositivos virtuales que interactuen con los f\u00edsicos"
     ]
    },
    {
     "cell_type": "code",
     "collapsed": false,
     "input": [
      "r = requests.post('http://127.0.0.1:8000/ucloud/thing', data=json.dumps({'mac': 2,\n",
      "                                                                        'json': {'name': 'prueba'},\n",
      "                                                                        'metajson': {'/name': 'prueba'}}),\n",
      "                                                       headers={'content-type': 'application/json'})\n",
      "print 'Code: ' + str(r.status_code) + '\\n\\n MSG:\\n' + str(r.text)"
     ],
     "language": "python",
     "metadata": {},
     "outputs": [
      {
       "output_type": "stream",
       "stream": "stdout",
       "text": [
        "Code: 201\n",
        "\n",
        " MSG:\n",
        "{\n",
        "  \"Thing\": \"New\"\n",
        "}\n"
       ]
      }
     ],
     "prompt_number": 45
    },
    {
     "cell_type": "heading",
     "level": 3,
     "metadata": {},
     "source": [
      "DELETE"
     ]
    },
    {
     "cell_type": "heading",
     "level": 3,
     "metadata": {},
     "source": [
      "Podemos borrar dispositivos manualmente"
     ]
    },
    {
     "cell_type": "code",
     "collapsed": false,
     "input": [
      "r = requests.delete('http://127.0.0.1:8000/ucloud/thing', data=json.dumps({'mac': 1}),\n",
      "                                                       headers={'content-type': 'application/json'})\n",
      "r = requests.delete('http://127.0.0.1:8000/ucloud/thing', data=json.dumps({'mac':2}),\n",
      "                                                       headers={'content-type': 'application/json'})\n",
      "print 'Code: ' + str(r.status_code) + '\\n\\n MSG:\\n' + str(r.text)"
     ],
     "language": "python",
     "metadata": {},
     "outputs": [
      {
       "output_type": "stream",
       "stream": "stdout",
       "text": [
        "Code: 201\n",
        "\n",
        " MSG:\n",
        "{\n",
        "  \"Thing\": \"Deleted\"\n",
        "}\n"
       ]
      }
     ],
     "prompt_number": 47
    },
    {
     "cell_type": "code",
     "collapsed": false,
     "input": [],
     "language": "python",
     "metadata": {},
     "outputs": []
    }
   ],
   "metadata": {}
  }
 ]
}